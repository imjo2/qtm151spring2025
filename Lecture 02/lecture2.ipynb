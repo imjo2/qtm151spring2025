{
 "cells": [
  {
   "attachments": {},
   "cell_type": "markdown",
   "metadata": {},
   "source": [
    "# <span style=\"color:darkblue\"> Lecture 2: Variables and Lists </span>"
   ]
  },
  {
   "attachments": {},
   "cell_type": "markdown",
   "metadata": {},
   "source": [
    "<font size=\"5\"> \n",
    "\n",
    "In the previous class we:\n",
    "- Reviewed the basics of Github\n",
    "- Reviewed the basic structure of Jupyter notebooks\n",
    "- Showed how to install and import packages using <br>\n",
    " **virtual environments**"
   ]
  },
  {
   "attachments": {},
   "cell_type": "markdown",
   "metadata": {},
   "source": [
    "<font size=\"5\"> \n",
    "\n",
    "In this class we will:\n",
    "\n",
    "- Introduce variables and lists\n",
    "- Compute a histogram plot\n",
    "- (Optional) Common pitfalls and understanding errors"
   ]
  },
  {
   "attachments": {},
   "cell_type": "markdown",
   "metadata": {},
   "source": [
    "# <span style=\"color:darkblue\"> 1. Import Libraries </span>"
   ]
  },
  {
   "cell_type": "code",
<<<<<<< Updated upstream
   "execution_count": 24,
=======
   "execution_count": 5,
>>>>>>> Stashed changes
   "metadata": {},
   "outputs": [],
   "source": [
    "# The matplotlib library is used to create graphs\n",
    "\n",
    "import matplotlib.pyplot as plt\n",
    "import numpy as np"
   ]
  },
  {
   "attachments": {},
   "cell_type": "markdown",
   "metadata": {},
   "source": [
    "## "
   ]
  },
  {
   "attachments": {},
   "cell_type": "markdown",
   "metadata": {},
   "source": [
    "# <span style=\"color:darkblue\"> 2. Variables and Data Types </span>"
   ]
  },
  {
   "attachments": {},
   "cell_type": "markdown",
   "metadata": {},
   "source": [
    "<font size=\"5\"> \n",
    "\n",
    "Identify the type of object\n",
    "- Integers, Floats (numbers with decimals) or strings (text)\n",
    "- Type is a function, with an argument in parenthesis (...)"
   ]
  },
  {
   "cell_type": "code",
<<<<<<< Updated upstream
   "execution_count": 25,
=======
   "execution_count": 6,
>>>>>>> Stashed changes
   "metadata": {},
   "outputs": [
    {
     "data": {
      "text/plain": [
       "int"
      ]
     },
<<<<<<< Updated upstream
     "execution_count": 25,
=======
     "execution_count": 6,
>>>>>>> Stashed changes
     "metadata": {},
     "output_type": "execute_result"
    }
   ],
   "source": [
    "type(3)"
   ]
  },
  {
   "cell_type": "code",
<<<<<<< Updated upstream
   "execution_count": 26,
=======
   "execution_count": 7,
>>>>>>> Stashed changes
   "metadata": {},
   "outputs": [
    {
     "data": {
      "text/plain": [
       "float"
      ]
     },
<<<<<<< Updated upstream
     "execution_count": 26,
=======
     "execution_count": 7,
>>>>>>> Stashed changes
     "metadata": {},
     "output_type": "execute_result"
    }
   ],
   "source": [
    "type(3.5)"
   ]
  },
  {
   "cell_type": "code",
<<<<<<< Updated upstream
   "execution_count": 27,
=======
   "execution_count": 8,
>>>>>>> Stashed changes
   "metadata": {},
   "outputs": [
    {
     "name": "stdout",
     "output_type": "stream",
     "text": [
      "<class 'int'>\n",
      "<class 'str'>\n"
     ]
    }
   ],
   "source": [
    "print(type(3))\n",
    "print(type(\"Juans car\"))"
   ]
  },
  {
   "cell_type": "code",
<<<<<<< Updated upstream
   "execution_count": 28,
=======
   "execution_count": 9,
>>>>>>> Stashed changes
   "metadata": {},
   "outputs": [
    {
     "data": {
      "text/plain": [
       "str"
      ]
     },
<<<<<<< Updated upstream
     "execution_count": 28,
=======
     "execution_count": 9,
>>>>>>> Stashed changes
     "metadata": {},
     "output_type": "execute_result"
    }
   ],
   "source": [
    "# You can define strings with either single or double quotations.\n",
    "type(\"hello\")\n"
   ]
  },
  {
   "cell_type": "code",
<<<<<<< Updated upstream
   "execution_count": 29,
=======
   "execution_count": 10,
>>>>>>> Stashed changes
   "metadata": {},
   "outputs": [
    {
     "data": {
      "text/plain": [
       "str"
      ]
     },
<<<<<<< Updated upstream
     "execution_count": 29,
=======
     "execution_count": 10,
>>>>>>> Stashed changes
     "metadata": {},
     "output_type": "execute_result"
    }
   ],
   "source": [
    "type('hello')"
   ]
  },
  {
   "attachments": {},
   "cell_type": "markdown",
   "metadata": {},
   "source": [
    "<font size=\"5\"> \n",
    "\n",
    "Store Variables in memory\n",
    "\n",
    "- Assign variables with \"=\"\n",
    "- Write meaningful names, without spaces\n",
    "- Can use underscore \"_\"\n",
    "- Click \"Variables\" in the top panel of Jupyter Notebooks"
   ]
  },
  {
   "cell_type": "code",
<<<<<<< Updated upstream
   "execution_count": 30,
=======
   "execution_count": 11,
>>>>>>> Stashed changes
   "metadata": {},
   "outputs": [],
   "source": [
    "# Try choosing your names on the left of \"=\"\n",
    "\n",
    "name = \"Alejandro\"\n",
    "last_name = \"Sanchez\"\n"
   ]
  },
  {
   "cell_type": "code",
<<<<<<< Updated upstream
   "execution_count": 31,
=======
   "execution_count": 12,
>>>>>>> Stashed changes
   "metadata": {},
   "outputs": [
    {
     "data": {
      "text/plain": [
       "'Alejandro'"
      ]
     },
<<<<<<< Updated upstream
     "execution_count": 31,
=======
     "execution_count": 12,
>>>>>>> Stashed changes
     "metadata": {},
     "output_type": "execute_result"
    }
   ],
   "source": [
    "# You can show the output by writing the name of the variable\n",
    "# Try including different variables\n",
    "\n",
    "name\n"
   ]
  },
  {
   "cell_type": "code",
<<<<<<< Updated upstream
   "execution_count": 32,
=======
   "execution_count": 13,
>>>>>>> Stashed changes
   "metadata": {},
   "outputs": [],
   "source": [
    "number3 = 3\n",
    "number3andhalf = 3.5"
   ]
  },
  {
   "cell_type": "code",
<<<<<<< Updated upstream
   "execution_count": 33,
   "metadata": {},
   "outputs": [
    {
     "ename": "NameError",
     "evalue": "name 'number3asd' is not defined",
     "output_type": "error",
     "traceback": [
      "\u001b[0;31m---------------------------------------------------------------------------\u001b[0m",
      "\u001b[0;31mNameError\u001b[0m                                 Traceback (most recent call last)",
      "Cell \u001b[0;32mIn[33], line 4\u001b[0m\n\u001b[1;32m      1\u001b[0m \u001b[38;5;66;03m# Jupyter only shows the output for the last object\u001b[39;00m\n\u001b[1;32m      2\u001b[0m \u001b[38;5;66;03m# You can show multiple outputs by using the function \"print\"\u001b[39;00m\n\u001b[0;32m----> 4\u001b[0m \u001b[38;5;28mprint\u001b[39m(\u001b[43mnumber3asd\u001b[49m)\n\u001b[1;32m      5\u001b[0m \u001b[38;5;28mprint\u001b[39m(number3andhalf)\n",
      "\u001b[0;31mNameError\u001b[0m: name 'number3asd' is not defined"
=======
   "execution_count": 15,
   "metadata": {},
   "outputs": [
    {
     "name": "stdout",
     "output_type": "stream",
     "text": [
      "3\n",
      "3.5\n"
>>>>>>> Stashed changes
     ]
    }
   ],
   "source": [
    "# Jupyter only shows the output for the last object\n",
    "# You can show multiple outputs by using the function \"print\"\n",
    "\n",
    "print(number3)\n",
    "print(number3andhalf)"
   ]
  },
  {
   "cell_type": "markdown",
   "metadata": {},
   "source": [
    "<font size = \"5\">\n",
    "\n",
    "Try it yourself!\n",
    "\n",
    "- Create a variable with your favorite movie"
   ]
  },
  {
   "cell_type": "code",
<<<<<<< Updated upstream
   "execution_count": null,
=======
   "execution_count": 19,
>>>>>>> Stashed changes
   "metadata": {},
   "outputs": [
    {
     "name": "stdout",
     "output_type": "stream",
     "text": [
      "Harry Potter\n"
     ]
    }
   ],
   "source": [
    "# Write your own code\n",
    "\n",
    "favoritemovie1 = \"10 things I hate about you\"\n",
    "favoritemovie2 = \"Incantation\"\n",
    "favoritemovie3 = \"La La Land\"\n",
    "favoritemovie4 = \"Harry Potter\"\n",
    "\n",
    "print(favoritemovie4)\n",
    "\n"
   ]
  },
  {
   "cell_type": "markdown",
   "metadata": {},
   "source": [
    "# <span style=\"color:darkblue\"> 3. Basic operations on integers, floats, and strings </span>"
   ]
  },
  {
   "attachments": {},
   "cell_type": "markdown",
   "metadata": {},
   "source": [
    "<font size=\"5\"> \n",
    "\n",
    "\n",
    "\n",
    "- Addition (+), Multiplication (*), Subtraction (-),<br>\n",
    " Division (/), Exponentiation (**)\n",
    "- If you try this on a string it will not work"
   ]
  },
  {
   "cell_type": "code",
   "execution_count": null,
   "metadata": {},
   "outputs": [
    {
     "name": "stdout",
     "output_type": "stream",
     "text": [
      "5\n",
      "6\n",
      "-1\n",
      "0.6666666666666666\n",
      "8\n"
     ]
    }
   ],
   "source": [
    "# Basic operations on numbers\n",
    "\n",
    "print(2+3)\n",
    "print(2*3)\n",
    "print(2-3)\n",
    "print(2/3)\n",
    "print((2)**(3))\n"
   ]
  },
  {
   "cell_type": "code",
   "execution_count": null,
   "metadata": {},
   "outputs": [
    {
     "data": {
      "text/plain": [
       "8"
      ]
     },
     "execution_count": 19,
     "metadata": {},
     "output_type": "execute_result"
    }
   ],
   "source": [
    "2+3\n",
    "2*3\n",
    "2-3\n",
    "2/3\n",
    "2**3"
   ]
  },
  {
   "attachments": {},
   "cell_type": "markdown",
   "metadata": {},
   "source": [
    "<font size=\"5\"> \n",
    "\n",
    "Use parenthesis for composite operations"
   ]
  },
  {
   "cell_type": "code",
   "execution_count": null,
   "metadata": {},
   "outputs": [
    {
     "data": {
      "text/plain": [
       "1.4"
      ]
     },
     "execution_count": 20,
     "metadata": {},
     "output_type": "execute_result"
    }
   ],
   "source": [
    "(3 + 4) / 5"
   ]
  },
  {
   "cell_type": "code",
   "execution_count": null,
   "metadata": {},
   "outputs": [
    {
     "data": {
      "text/plain": [
       "3.25"
      ]
     },
     "execution_count": 22,
     "metadata": {},
     "output_type": "execute_result"
    }
   ],
   "source": [
    "# Try doing the same with the variable \"number3\" or \"number3andhalf instead.\n",
    "\n",
    "(number3 + number3andhalf) /2"
   ]
  },
  {
   "attachments": {},
   "cell_type": "markdown",
   "metadata": {},
   "source": [
    "<font size=\"5\"> \n",
    "\n",
    "Concatenate \"add\" two strings"
   ]
  },
  {
   "cell_type": "code",
   "execution_count": null,
   "metadata": {},
   "outputs": [
    {
     "data": {
      "text/plain": [
       "'My name is Alejandro Sanchez Becerra'"
      ]
     },
     "execution_count": 26,
     "metadata": {},
     "output_type": "execute_result"
    }
   ],
   "source": [
    "# Use the + symbol to concatenate two or more strings\n",
    "# This is very useful to contract strings where one part stays the same,\n",
    "# and the other is a user input.\n",
    "\n",
    "first_name = \"Alejandro\"\n",
    "last_name = \"Sanchez Becerra\"\n",
    "\n",
    "\"My name is\" + \" \"  + first_name + \" \" + last_name"
   ]
  },
  {
   "cell_type": "markdown",
   "metadata": {},
   "source": [
    "<font size = \"5\">\n",
    "\n",
    "Try it yourself!\n",
    "\n",
    "- Define a variable with your name.\n",
    "- Define a new variable with your major.\n",
    "- Print a concantenated string with your name and major\n"
   ]
  },
  {
   "cell_type": "code",
<<<<<<< Updated upstream
   "execution_count": null,
=======
   "execution_count": 20,
>>>>>>> Stashed changes
   "metadata": {},
   "outputs": [
    {
     "name": "stdout",
     "output_type": "stream",
     "text": [
      "My name is Ian Moon\n"
     ]
    }
   ],
   "source": [
    "#  Write your own code here\n",
    "name = 'Ian'\n",
    "last_name = 'Moon'\n",
    "\n",
    "print(\"My name is\" + \" \" + name + \" \" + last_name)\n"
   ]
  },
  {
   "attachments": {},
   "cell_type": "markdown",
   "metadata": {},
   "source": [
    "# <span style=\"color:darkblue\"> Lists </span>"
   ]
  },
  {
   "attachments": {},
   "cell_type": "markdown",
   "metadata": {},
   "source": [
    "<font size=\"5\"> \n",
    "\n",
    "Store Lists\n",
    "\n",
    "- Lists are always denote by square brackets [...]\n",
    "- Elements separated by commas"
   ]
  },
  {
   "cell_type": "code",
<<<<<<< Updated upstream
   "execution_count": null,
=======
   "execution_count": 21,
>>>>>>> Stashed changes
   "metadata": {},
   "outputs": [],
   "source": [
    "# List of numbers\n",
    "# Example: Suppose you ask 5 people about their favorite color. The results:\n",
    "list_numbers = [1,2,3,4,5]\n",
    "list_numbers_sqr = [1,4,9,16,25]"
   ]
  },
  {
   "cell_type": "code",
<<<<<<< Updated upstream
   "execution_count": null,
=======
   "execution_count": 22,
>>>>>>> Stashed changes
   "metadata": {},
   "outputs": [
    {
     "data": {
      "text/plain": [
       "list"
      ]
     },
     "execution_count": 22,
     "metadata": {},
     "output_type": "execute_result"
    }
   ],
   "source": [
    "type(list_numbers)"
   ]
  },
  {
   "cell_type": "code",
<<<<<<< Updated upstream
   "execution_count": null,
=======
   "execution_count": 23,
>>>>>>> Stashed changes
   "metadata": {},
   "outputs": [],
   "source": [
    "# List with strings\n",
    "# Example: Suppose you ask 5 people about their favorite color. The results:\n",
    "list_colors = [\"red\",\"yellow\",\"yellow\", \"green\",\"red\"]"
   ]
  },
  {
   "cell_type": "code",
<<<<<<< Updated upstream
   "execution_count": null,
=======
   "execution_count": 24,
>>>>>>> Stashed changes
   "metadata": {},
   "outputs": [],
   "source": [
    "# List with mixed types\n",
    "list_mixed = [\"red\",1,\"yellow\",4,5, 3.5]"
   ]
  },
  {
   "cell_type": "code",
   "execution_count": null,
   "metadata": {},
   "outputs": [
    {
     "data": {
      "text/plain": [
       "[['red', 1, 'yellow', 4, 5, 3.5], 3, 'h']"
      ]
     },
     "execution_count": 34,
     "metadata": {},
     "output_type": "execute_result"
    }
   ],
   "source": [
    "another_list = [list_mixed, 3, 'h']\n",
    "another_list"
   ]
  },
  {
   "attachments": {},
   "cell_type": "markdown",
   "metadata": {},
   "source": [
    "<font size=\"5\">\n",
    "\n",
    "Extract individual elements from a list\n",
    "\n",
    "- Use square brackets, e.g. list_colors[2]\n",
    "- Python lists always start at the **ZERO** position\n",
    "\n",
    "\n",
    "<img src=\"figures/house_diagram.png\" alt=\"drawing\" width=\"650\"/>"
   ]
  },
  {
   "cell_type": "code",
   "execution_count": null,
   "metadata": {},
   "outputs": [
    {
     "data": {
      "text/plain": [
       "'ground'"
      ]
     },
     "execution_count": 39,
     "metadata": {},
     "output_type": "execute_result"
    }
   ],
   "source": [
    "floors_england = [\"ground\", \"floor1\", \"floor2\" ]\n",
    "\n",
    "floors_england[0]"
   ]
  },
  {
   "cell_type": "code",
   "execution_count": null,
   "metadata": {},
   "outputs": [
    {
     "data": {
      "text/plain": [
       "[['red', 1, 'yellow', 4, 5, 3.5], 3, 'h']"
      ]
     },
     "execution_count": 40,
     "metadata": {},
     "output_type": "execute_result"
    }
   ],
   "source": [
    "another_list"
   ]
  },
  {
   "cell_type": "code",
   "execution_count": null,
   "metadata": {},
   "outputs": [
    {
     "data": {
      "text/plain": [
       "'yellow'"
      ]
     },
     "execution_count": 41,
     "metadata": {},
     "output_type": "execute_result"
    }
   ],
   "source": [
    "another_list[0][2]"
   ]
  },
  {
   "cell_type": "code",
   "execution_count": null,
   "metadata": {},
   "outputs": [
    {
     "name": "stdout",
     "output_type": "stream",
     "text": [
      "red\n",
      "yellow\n",
      "yellow\n",
      "green\n",
      "red\n"
     ]
    }
   ],
   "source": [
    "# Use print to show the output of multiple commands\n",
    "print(list_colors[0])\n",
    "print(list_colors[1])\n",
    "print(list_colors[2])\n",
    "print(list_colors[3])\n",
    "print(list_colors[4])"
   ]
  },
  {
   "cell_type": "code",
   "execution_count": null,
   "metadata": {},
   "outputs": [
    {
     "data": {
      "text/plain": [
       "['red', 'yellow', 'yellow', 'green', 'red']"
      ]
     },
     "execution_count": 43,
     "metadata": {},
     "output_type": "execute_result"
    }
   ],
   "source": [
    "list_colors"
   ]
  },
  {
   "cell_type": "markdown",
   "metadata": {},
   "source": [
    "<font size = \"5\">\n",
    "\n",
    "Try it yourself!\n",
    "\n",
    "- Create a list with four elements, <br>\n",
    " and then selecting the third entry\n",
    "\n"
   ]
  },
  {
   "cell_type": "code",
   "execution_count": null,
   "metadata": {},
   "outputs": [
    {
     "data": {
      "text/plain": [
<<<<<<< Updated upstream
       "'D'"
      ]
     },
     "execution_count": 1,
=======
       "'bo'"
      ]
     },
     "execution_count": 26,
>>>>>>> Stashed changes
     "metadata": {},
     "output_type": "execute_result"
    }
   ],
   "source": [
    "# Write your own code here\n",
    "four_list = ['bob', 'bill', 'bo', 'billy']\n",
    "\n",
<<<<<<< Updated upstream
    "list_elements = [\"A\",\"B\",\"C\",\"D\"]\n",
    "list_elements[3]\n",
    "\n"
=======
    "four_list[2]\n"
>>>>>>> Stashed changes
   ]
  },
  {
   "attachments": {},
   "cell_type": "markdown",
   "metadata": {},
   "source": [
    "# <span style=\"color:darkblue\"> Visualizing Lists </span>"
   ]
  },
  {
   "attachments": {},
   "cell_type": "markdown",
   "metadata": {},
   "source": [
    "<font size=\"5\"> \n",
    "\n",
    "A histogram for categorical data"
   ]
  },
  {
   "cell_type": "code",
<<<<<<< Updated upstream
   "execution_count": null,
=======
   "execution_count": 27,
>>>>>>> Stashed changes
   "metadata": {},
   "outputs": [
    {
     "data": {
      "text/plain": [
       "['red', 'yellow', 'yellow', 'green', 'red', 'red']"
      ]
     },
     "execution_count": 27,
     "metadata": {},
     "output_type": "execute_result"
    }
   ],
   "source": [
    "list_list = list_colors + ['red']\n",
    "\n",
    "list_list"
   ]
  },
  {
   "cell_type": "code",
   "execution_count": null,
   "metadata": {},
   "outputs": [
    {
     "data": {
      "text/plain": [
       "(array([3., 0., 0., 0., 0., 2., 0., 0., 0., 1.]),\n",
       " array([0. , 0.2, 0.4, 0.6, 0.8, 1. , 1.2, 1.4, 1.6, 1.8, 2. ]),\n",
       " <BarContainer object of 10 artists>)"
      ]
     },
     "execution_count": 28,
     "metadata": {},
     "output_type": "execute_result"
    },
    {
     "data": {
      "image/png": "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",
      "text/plain": [
       "<Figure size 640x480 with 1 Axes>"
      ]
     },
     "metadata": {},
     "output_type": "display_data"
    }
   ],
   "source": [
    "# This creates a histogram with the \"list_colors\"\n",
    "plt.hist(x= list_list)"
   ]
  },
  {
   "cell_type": "code",
<<<<<<< Updated upstream
   "execution_count": null,
=======
   "execution_count": 30,
>>>>>>> Stashed changes
   "metadata": {},
   "outputs": [
    {
     "data": {
      "text/plain": [
       "(array([1., 0., 0., 1., 0., 0., 1., 0., 0., 4.]),\n",
       " array([0. , 0.3, 0.6, 0.9, 1.2, 1.5, 1.8, 2.1, 2.4, 2.7, 3. ]),\n",
       " <BarContainer object of 10 artists>)"
      ]
     },
     "execution_count": 30,
     "metadata": {},
     "output_type": "execute_result"
    },
    {
     "data": {
      "image/png": "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",
      "text/plain": [
       "<Figure size 640x480 with 1 Axes>"
      ]
     },
     "metadata": {},
     "output_type": "display_data"
    }
   ],
   "source": [
    "# Creat a list with repeated string values\n",
    "# Compute your own histogram\n",
    "four_list = four_list + ['billy']\n",
    "four_list\n",
    "\n",
    "plt.hist(x= four_list)\n"
   ]
  },
  {
   "attachments": {},
   "cell_type": "markdown",
   "metadata": {},
   "source": [
    "<font size=\"5\"> \n",
    "\n",
    "A scatterplot for continuous data"
   ]
  },
  {
   "cell_type": "code",
<<<<<<< Updated upstream
   "execution_count": null,
=======
   "execution_count": 31,
>>>>>>> Stashed changes
   "metadata": {},
   "outputs": [
    {
     "name": "stdout",
     "output_type": "stream",
     "text": [
      "[1, 2, 3, 4, 5]\n",
      "[1, 4, 9, 16, 25]\n"
     ]
    }
   ],
   "source": [
    "print(list(list_numbers))\n",
    "print(list_numbers_sqr)"
   ]
  },
  {
   "cell_type": "code",
   "execution_count": null,
   "metadata": {},
   "outputs": [
    {
     "data": {
      "text/plain": [
       "list"
      ]
     },
     "execution_count": 47,
     "metadata": {},
     "output_type": "execute_result"
    }
   ],
   "source": [
    "type(list_numbers)"
   ]
  },
  {
   "cell_type": "code",
   "execution_count": null,
   "metadata": {},
   "outputs": [
    {
     "data": {
      "image/png": "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",
      "text/plain": [
       "<Figure size 640x480 with 1 Axes>"
      ]
     },
     "metadata": {},
     "output_type": "display_data"
    }
   ],
   "source": [
    "plt.scatter(x = list_numbers, y = list_numbers_sqr)\n",
    "plt.xlabel(\"A meaningful name for the X-axis\")\n",
    "plt.ylabel(\"Favourite name for Y-axis\")\n",
    "plt.show()\n"
   ]
  },
  {
   "cell_type": "markdown",
   "metadata": {},
   "source": [
    "<font size = \"5\">\n",
    "\n",
    "Try it yourself!\n",
    "\n",
    "- Create a list with numbers, then create <br>\n",
    "your own scatter plot\n",
    "\n"
   ]
  },
  {
   "cell_type": "code",
<<<<<<< Updated upstream
   "execution_count": null,
   "metadata": {},
   "outputs": [
    {
     "ename": "NameError",
     "evalue": "name 'np' is not defined",
     "output_type": "error",
     "traceback": [
      "\u001b[0;31m---------------------------------------------------------------------------\u001b[0m",
      "\u001b[0;31mNameError\u001b[0m                                 Traceback (most recent call last)",
      "Cell \u001b[0;32mIn[3], line 4\u001b[0m\n\u001b[1;32m      1\u001b[0m \u001b[38;5;66;03m# Write your own code here\u001b[39;00m\n\u001b[0;32m----> 4\u001b[0m vec_custom_x \u001b[38;5;241m=\u001b[39m \u001b[43mnp\u001b[49m\u001b[38;5;241m.\u001b[39marray([\u001b[38;5;241m1\u001b[39m,\u001b[38;5;241m2\u001b[39m,\u001b[38;5;241m3\u001b[39m,\u001b[38;5;241m4\u001b[39m,\u001b[38;5;241m5\u001b[39m])\n\u001b[1;32m      5\u001b[0m vec_custom_y \u001b[38;5;241m=\u001b[39m np\u001b[38;5;241m.\u001b[39marray([\u001b[38;5;241m2\u001b[39m,\u001b[38;5;241m23\u001b[39m,\u001b[38;5;241m5\u001b[39m,\u001b[38;5;241m6\u001b[39m,\u001b[38;5;241m6\u001b[39m])\n\u001b[1;32m      7\u001b[0m plt\u001b[38;5;241m.\u001b[39mscatter(x \u001b[38;5;241m=\u001b[39m vec_custom_x,y\u001b[38;5;241m=\u001b[39mvec_custom_y)\n",
      "\u001b[0;31mNameError\u001b[0m: name 'np' is not defined"
     ]
=======
   "execution_count": 32,
   "metadata": {},
   "outputs": [
    {
     "data": {
      "image/png": "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",
      "text/plain": [
       "<Figure size 640x480 with 1 Axes>"
      ]
     },
     "metadata": {},
     "output_type": "display_data"
>>>>>>> Stashed changes
    }
   ],
   "source": [
    "# Write your own code here\n",
    "list_numeros = [1,2,3,4,5]\n",
    "list_numeros_cuadrados = [1,4,9,16,25]\n",
    "\n",
<<<<<<< Updated upstream
    "\n",
    "vec_custom_x = np.array([1,2,3,4,5])\n",
    "vec_custom_y = np.array([2,23,5,6,6])\n",
    "\n",
    "plt.scatter(x = vec_custom_x,y=vec_custom_y)\n",
    "plt.xlabel(\"X\")\n",
    "plt.ylabel(\"Y\")\n",
    "\n",
    "\n",
    "\n"
=======
    "plt.scatter(x = list_numeros, y = list_numeros)\n",
    "plt.xlabel(\"Numeros\")\n",
    "plt.ylabel(\"Numeros\")\n",
    "plt.show()"
>>>>>>> Stashed changes
   ]
  },
  {
   "attachments": {},
   "cell_type": "markdown",
   "metadata": {},
   "source": [
    "# <span style=\"color:darkblue\"> Additional Resources </span>\n",
    "\n",
    "<font size=\"5\"> \n",
    "\n",
    "Check out additional examples at:\n",
    "\n",
    "- https://allendowney.github.io/ElementsOfDataScience/01_variables.html\n",
    "- https://allendowney.github.io/ElementsOfDataScience/03_arrays.html\n",
    "\n"
   ]
  },
  {
   "attachments": {},
   "cell_type": "markdown",
   "metadata": {},
   "source": [
    "# <span style=\"color:darkblue\"> (Optional) Common Pitfalls </span>\n",
    "\n",
    "<font size=\"5\"> \n",
    "\n",
    "It's very common to enter a command incorrectly\n",
    "- There will be an arrow pointing to the problematic line\n",
    "- Focus on the message following \"NameError\""
   ]
  },
  {
   "attachments": {},
   "cell_type": "markdown",
   "metadata": {},
   "source": [
    "<font size=\"5\"> \n",
    "\n",
    "Pro Tip:\n",
    "- Type in google the message for \"NameError\" plus the word Python\n",
    "- Somebody may have a solution/explanation!"
   ]
  },
  {
   "attachments": {},
   "cell_type": "markdown",
   "metadata": {},
   "source": [
    "<font size=\"5\"> \n",
    "\n",
    "Example 1: Not including quotations"
   ]
  },
  {
   "cell_type": "code",
   "execution_count": null,
   "metadata": {},
   "outputs": [],
   "source": [
    "hello = 'hello'"
   ]
  },
  {
   "cell_type": "code",
   "execution_count": null,
   "metadata": {},
   "outputs": [
    {
     "ename": "NameError",
     "evalue": "name 'hellos' is not defined",
     "output_type": "error",
     "traceback": [
      "\u001b[0;31m---------------------------------------------------------------------------\u001b[0m",
      "\u001b[0;31mNameError\u001b[0m                                 Traceback (most recent call last)",
      "\u001b[0;32m/var/folders/1b/jzb9ndz97b5260fzr9d8kzyh5f7xd6/T/ipykernel_34142/2227594636.py\u001b[0m in \u001b[0;36m<module>\u001b[0;34m\u001b[0m\n\u001b[1;32m      1\u001b[0m \u001b[0;31m# When you don't include quotation marks,\u001b[0m\u001b[0;34m\u001b[0m\u001b[0;34m\u001b[0m\u001b[0m\n\u001b[1;32m      2\u001b[0m \u001b[0;31m# Python will try to search for a variable called Hello\u001b[0m\u001b[0;34m\u001b[0m\u001b[0;34m\u001b[0m\u001b[0m\n\u001b[0;32m----> 3\u001b[0;31m \u001b[0mtype\u001b[0m\u001b[0;34m(\u001b[0m\u001b[0mhellos\u001b[0m\u001b[0;34m)\u001b[0m\u001b[0;34m\u001b[0m\u001b[0;34m\u001b[0m\u001b[0m\n\u001b[0m",
      "\u001b[0;31mNameError\u001b[0m: name 'hellos' is not defined"
     ]
    }
   ],
   "source": [
    "# When you don't include quotation marks,\n",
    "# Python will try to search for a variable called Hello\n",
    "type(hellos)"
   ]
  },
  {
   "cell_type": "code",
   "execution_count": null,
   "metadata": {},
   "outputs": [
    {
     "data": {
      "text/plain": [
       "str"
      ]
     },
     "execution_count": 48,
     "metadata": {},
     "output_type": "execute_result"
    }
   ],
   "source": [
    "# This commands works if we already defined a variable, e.g.\n",
    "type(message_hello)"
   ]
  },
  {
   "attachments": {},
   "cell_type": "markdown",
   "metadata": {},
   "source": [
    "<font size=\"5\"> \n",
    "\n",
    "Examples 2: Operations with mixed types don't work"
   ]
  },
  {
   "cell_type": "code",
   "execution_count": null,
   "metadata": {},
   "outputs": [
    {
     "name": "stdout",
     "output_type": "stream",
     "text": [
      "hola3\n"
     ]
    }
   ],
   "source": [
    "# If you add a number and a string you get a concatenated string\n",
    "print(\"hola\" + str(number3))"
   ]
  },
  {
   "cell_type": "code",
   "execution_count": null,
   "metadata": {},
   "outputs": [
    {
     "name": "stdout",
     "output_type": "stream",
     "text": [
      "hola3\n"
     ]
    }
   ],
   "source": [
    "# You can convert an integer to string first\n",
    "print(\"hola\" + str(number3))"
   ]
  },
  {
   "attachments": {},
   "cell_type": "markdown",
   "metadata": {},
   "source": [
    "<font size=\"5\"> \n",
    "\n",
    "Examples 3: Not all mathematical operations on numeric lists work\n",
    "\n",
    "- We need a different object: arrays!\n",
    "- We'll look into this in future classes"
   ]
  },
  {
   "cell_type": "code",
   "execution_count": null,
   "metadata": {},
   "outputs": [
    {
     "data": {
      "text/plain": [
       "[1, 2, 3, 4, 5, 2]"
      ]
     },
     "execution_count": 66,
     "metadata": {},
     "output_type": "execute_result"
    }
   ],
   "source": [
    "list(list_numbers) + [2]"
   ]
  }
 ],
 "metadata": {
  "kernelspec": {
   "display_name": "base",
   "language": "python",
   "name": "python3"
  },
  "language_info": {
   "codemirror_mode": {
    "name": "ipython",
    "version": 3
   },
   "file_extension": ".py",
   "mimetype": "text/x-python",
   "name": "python",
   "nbconvert_exporter": "python",
   "pygments_lexer": "ipython3",
   "version": "3.12.7"
  },
  "orig_nbformat": 4
 },
 "nbformat": 4,
 "nbformat_minor": 2
}
